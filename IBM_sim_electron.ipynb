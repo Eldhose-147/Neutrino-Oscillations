{
 "cells": [
  {
   "cell_type": "code",
   "execution_count": 1,
   "id": "9b18aa22",
   "metadata": {},
   "outputs": [
    {
     "name": "stderr",
     "output_type": "stream",
     "text": [
      "/tmp/ipykernel_21341/1531440608.py:5: DeprecationWarning: The qiskit.ignis package is deprecated and has been supersceded by the qiskit-experiments project. Refer to the migration guide: https://github.com/Qiskit/qiskit-ignis#migration-guide on how to migrate to the new project.\n",
      "  from qiskit.ignis.mitigation.measurement import (CompleteMeasFitter,complete_meas_cal)\n"
     ]
    }
   ],
   "source": [
    "from qiskit import *\n",
    "import numpy as np\n",
    "import matplotlib.pyplot as plt\n",
    "from cmath import exp,sin,cos\n",
    "from qiskit.ignis.mitigation.measurement import (CompleteMeasFitter,complete_meas_cal)\n",
    "from qiskit import IBMQ"
   ]
  },
  {
   "cell_type": "code",
   "execution_count": 2,
   "id": "1dbd51b9",
   "metadata": {},
   "outputs": [
    {
     "name": "stderr",
     "output_type": "stream",
     "text": [
      "/tmp/ipykernel_21341/485379158.py:1: DeprecationWarning: The package qiskit.providers.ibmq is being deprecated. Please see https://ibm.biz/provider_migration_guide to get instructions on how to migrate to qiskit-ibm-provider (https://github.com/Qiskit/qiskit-ibm-provider) and qiskit-ibm-runtime (https://github.com/Qiskit/qiskit-ibm-runtime).\n",
      "  IBMQ.load_account()\n",
      "/tmp/ipykernel_21341/485379158.py:1: DeprecationWarning: The qiskit.IBMQ entrypoint and the qiskit-ibmq-provider package (accessible from 'qiskit.providers.ibmq`) are deprecated and will be removed in a future release. Instead you should use the qiskit-ibm-provider package which is accessible from 'qiskit_ibm_provider'. You can install it with 'pip install qiskit_ibm_provider'. Just replace 'qiskit.IBMQ' with 'qiskit_ibm_provider.IBMProvider'\n",
      "  IBMQ.load_account()\n"
     ]
    },
    {
     "data": {
      "text/plain": [
       "<AccountProvider for IBMQ(hub='ibm-q', group='open', project='main')>"
      ]
     },
     "execution_count": 2,
     "metadata": {},
     "output_type": "execute_result"
    }
   ],
   "source": [
    "IBMQ.load_account()"
   ]
  },
  {
   "cell_type": "code",
   "execution_count": 3,
   "id": "7b979a56",
   "metadata": {},
   "outputs": [],
   "source": [
    "provider = IBMQ.get_provider(hub='ibm-q', group='open', project='main')\n"
   ]
  },
  {
   "cell_type": "code",
   "execution_count": 4,
   "id": "e47418c9",
   "metadata": {},
   "outputs": [
    {
     "data": {
      "text/plain": [
       "[<IBMQSimulator('ibmq_qasm_simulator') from IBMQ(hub='ibm-q', group='open', project='main')>,\n",
       " <IBMQBackend('ibmq_lima') from IBMQ(hub='ibm-q', group='open', project='main')>,\n",
       " <IBMQBackend('ibmq_belem') from IBMQ(hub='ibm-q', group='open', project='main')>,\n",
       " <IBMQBackend('ibmq_quito') from IBMQ(hub='ibm-q', group='open', project='main')>,\n",
       " <IBMQSimulator('simulator_statevector') from IBMQ(hub='ibm-q', group='open', project='main')>,\n",
       " <IBMQSimulator('simulator_mps') from IBMQ(hub='ibm-q', group='open', project='main')>,\n",
       " <IBMQSimulator('simulator_extended_stabilizer') from IBMQ(hub='ibm-q', group='open', project='main')>,\n",
       " <IBMQSimulator('simulator_stabilizer') from IBMQ(hub='ibm-q', group='open', project='main')>,\n",
       " <IBMQBackend('ibmq_jakarta') from IBMQ(hub='ibm-q', group='open', project='main')>,\n",
       " <IBMQBackend('ibmq_manila') from IBMQ(hub='ibm-q', group='open', project='main')>,\n",
       " <IBMQBackend('ibm_lagos') from IBMQ(hub='ibm-q', group='open', project='main')>,\n",
       " <IBMQBackend('ibm_nairobi') from IBMQ(hub='ibm-q', group='open', project='main')>,\n",
       " <IBMQBackend('ibm_perth') from IBMQ(hub='ibm-q', group='open', project='main')>]"
      ]
     },
     "execution_count": 4,
     "metadata": {},
     "output_type": "execute_result"
    }
   ],
   "source": [
    "provider.backends()\n"
   ]
  },
  {
   "cell_type": "code",
   "execution_count": 25,
   "id": "88c086df",
   "metadata": {},
   "outputs": [],
   "source": [
    "qcomp = provider.get_backend('ibmq_lima')\n"
   ]
  },
  {
   "cell_type": "code",
   "execution_count": 26,
   "id": "8e377117",
   "metadata": {},
   "outputs": [
    {
     "data": {
      "text/plain": [
       "{'backend_name': 'ibmq_lima',\n",
       " 'backend_version': '1.0.49',\n",
       " 'operational': True,\n",
       " 'pending_jobs': 16,\n",
       " 'status_msg': 'active'}"
      ]
     },
     "execution_count": 26,
     "metadata": {},
     "output_type": "execute_result"
    }
   ],
   "source": [
    "qcomp.status().to_dict()\n",
    "\n"
   ]
  },
  {
   "cell_type": "code",
   "execution_count": 27,
   "id": "a4977329",
   "metadata": {},
   "outputs": [],
   "source": [
    "O12=0.58381263\n",
    "O13=0.1504474\n",
    "O23=0.7347836\n",
    "cp_phi=0"
   ]
  },
  {
   "cell_type": "code",
   "execution_count": 28,
   "id": "094a82f7",
   "metadata": {},
   "outputs": [],
   "source": [
    "mq21=7.5*pow(10,-5)\n",
    "mq31=2.5*pow(10,-3)\n",
    "E=1\n",
    "peq=[]\n",
    "pmq=[]\n",
    "puq=[]"
   ]
  },
  {
   "cell_type": "code",
   "execution_count": null,
   "id": "48c713ab",
   "metadata": {},
   "outputs": [],
   "source": [
    "for t in range (0,1200,100):\n",
    "    circ=QuantumCircuit(2,2)\n",
    "    circ.initialize('00',circ.qubits)\n",
    "    circ.cx(1,0)\n",
    "    circ.cu(2*O23,0,0,0,0,1)\n",
    "    circ.cx(1,0)\n",
    "    circ.x(0)\n",
    "    circ.cu(2*O13,cp_phi,-cp_phi,0,0,1)\n",
    "    circ.x(0)\n",
    "    circ.x(1)\n",
    "    circ.cu(2*O12,0,0,0,1,0)\n",
    "    circ.x(1)\n",
    "    circ.p(-(2*mq21*1.27*t)/(E),0)\n",
    "    circ.p(-(2*mq31*1.27*t)/(E),1)\n",
    "    circ.x(1)\n",
    "    circ.cu(-2*O12,0,0,0,1,0)\n",
    "    circ.x(1)\n",
    "    circ.x(0)\n",
    "    circ.cu(-2*O13,cp_phi,-cp_phi,0,0,1)\n",
    "    circ.x(0)\n",
    "    circ.cx(1,0)\n",
    "    circ.cu(-2*O23,0,0,0,0,1)\n",
    "    circ.cx(1,0)\n",
    "    circ.measure([0,1],[0,1])\n",
    "    job=execute(circ,backend=qcomp)\n",
    "    device_results=job.result().get_counts(circ)\n",
    "    cal_circuits,state_labels=complete_meas_cal(qr=circ.qregs[0],circlabel='measerrormitigationcal')\n",
    "    cal_job=execute(cal_circuits,backend=qcomp,optimization_level=0)\n",
    "    cal_results=cal_job.result()\n",
    "    meas_fitter=CompleteMeasFitter(cal_results,state_labels)\n",
    "    meas_filter=meas_fitter.filter\n",
    "    mitigated_results=meas_filter.apply(device_results)\n",
    "    total = sum(mitigated_results.values())\n",
    "    result = {key: value / total for key, value in mitigated_results.items()}\n",
    "    try:\n",
    "        peq.append(result['00'])\n",
    "    except:\n",
    "        peq.append(0)\n",
    "    try:\n",
    "        pmq.append(result['01'])\n",
    "    except:\n",
    "        pmq.append(0)\n",
    "    try:\n",
    "        puq.append(result['10'])\n",
    "    except:\n",
    "        puq.append(0)\n"
   ]
  },
  {
   "cell_type": "code",
   "execution_count": null,
   "id": "b30cc0c2",
   "metadata": {},
   "outputs": [],
   "source": []
  }
 ],
 "metadata": {
  "kernelspec": {
   "display_name": "Python 3 (ipykernel)",
   "language": "python",
   "name": "python3"
  },
  "language_info": {
   "codemirror_mode": {
    "name": "ipython",
    "version": 3
   },
   "file_extension": ".py",
   "mimetype": "text/x-python",
   "name": "python",
   "nbconvert_exporter": "python",
   "pygments_lexer": "ipython3",
   "version": "3.10.9"
  }
 },
 "nbformat": 4,
 "nbformat_minor": 5
}
